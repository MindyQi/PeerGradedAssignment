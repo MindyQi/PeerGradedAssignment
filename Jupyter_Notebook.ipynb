{
 "cells": [
  {
   "cell_type": "markdown",
   "metadata": {},
   "source": [
    "<center>\n",
    "    <img src=\"https://cf-courses-data.s3.us.cloud-object-storage.appdomain.cloud/IBMDeveloperSkillsNetwork-DS0105EN-SkillsNetwork/labs/Module2/images/SN_web_lightmode.png\" width=\"300\" alt=\"cognitiveclass.ai logo\"  />\n",
    "</center>\n"
   ]
  },
  {
   "cell_type": "markdown",
   "metadata": {},
   "source": [
    "# My Jupyter Notebook on IBM Watson Studio"
   ]
  },
  {
   "cell_type": "markdown",
   "metadata": {},
   "source": [
    "**Zhiying Qi**"
   ]
  },
  {
   "cell_type": "markdown",
   "metadata": {},
   "source": [
    "*I am interested in data science because I would like to build machine learning models for People Analytics projects. <br> I understand that people data is not big data, but I believe people analytics projects still can benefit from some advanced tools and models commonly used in data science.<br>*"
   ]
  },
  {
   "cell_type": "markdown",
   "metadata": {
    "tags": []
   },
   "source": [
    "### The code below is to print the string of \"Hello, World!\""
   ]
  },
  {
   "cell_type": "code",
   "execution_count": 7,
   "metadata": {},
   "outputs": [
    {
     "name": "stdout",
     "output_type": "stream",
     "text": [
      "Hello, World!\n"
     ]
    }
   ],
   "source": [
    "print(\"Hello, World!\")"
   ]
  },
  {
   "cell_type": "markdown",
   "metadata": {},
   "source": [
    "**Here is my wish list of people analytics projects that I hope data science can help:**\n",
    "\n",
    "* Attrition prediction\n",
    "* Personas for Recruitment strategy\n",
    "<div class = \"alert alert-block alert-info\">\n",
    "    1. What kind of person is suitable for the organizational culture?<br>\n",
    "    2. What kind of person is suitable for the position (job family)?<br>\n",
    "    3. What kind of person is most likely to stay more than three years?<br>\n",
    "    4. What kind of person is most likely to succeed and become a leader in the organiztion?<br></div>\n",
    "* Female workforce prediction and prescription for the organizational DEI goal"
   ]
  },
  {
   "cell_type": "markdown",
   "metadata": {},
   "source": [
    "If you are also working in People Analytics, I would love to connect. Here is my __[LinkedIn profile](https://www.linkedin.com/in/mindyqi/)__. Thank you very much for grading my Notebook!"
   ]
  }
 ],
 "metadata": {
  "kernelspec": {
   "display_name": "Python",
   "language": "python",
   "name": "conda-env-python-py"
  },
  "language_info": {
   "codemirror_mode": {
    "name": "ipython",
    "version": 3
   },
   "file_extension": ".py",
   "mimetype": "text/x-python",
   "name": "python",
   "nbconvert_exporter": "python",
   "pygments_lexer": "ipython3",
   "version": "3.7.12"
  }
 },
 "nbformat": 4,
 "nbformat_minor": 4
}
